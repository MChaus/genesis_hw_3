{
 "cells": [
  {
   "cell_type": "markdown",
   "metadata": {},
   "source": [
    "# Homework part 2"
   ]
  },
  {
   "cell_type": "markdown",
   "metadata": {},
   "source": [
    "### Preparation"
   ]
  },
  {
   "cell_type": "code",
   "execution_count": 1,
   "metadata": {
    "collapsed": true
   },
   "outputs": [],
   "source": [
    "import pandas as pd\n",
    "import numpy as np\n",
    "import os\n",
    "import sys\n",
    "import time"
   ]
  },
  {
   "cell_type": "code",
   "execution_count": 2,
   "metadata": {
    "collapsed": true
   },
   "outputs": [],
   "source": [
    "from recursion import recursive_action\n",
    "from recursion import check_visits\n",
    "from recursion import count_visits\n",
    "from recursion import last_visit\n",
    "from functions import check_file_path\n",
    "from functions import check_dir_path\n",
    "from functions import print_data_frame"
   ]
  },
  {
   "cell_type": "code",
   "execution_count": 3,
   "metadata": {},
   "outputs": [
    {
     "name": "stdout",
     "output_type": "stream",
     "text": [
      "All files were successfully found!\n"
     ]
    }
   ],
   "source": [
    "project_path = os.path.dirname(os.path.realpath('__file__'))\n",
    "input_path = project_path + '\\\\input'\n",
    "processed_path = project_path + '\\\\processed'\n",
    "output_path = project_path + '\\\\output'\n",
    "\n",
    "dir_paths = [\n",
    "    input_path,\n",
    "    processed_path,\n",
    "    output_path,\n",
    "]\n",
    "\n",
    "recursive_action(iter(dir_paths), check_dir_path)\n",
    "        \n",
    "costs_path = input_path + '\\\\Costs.csv'\n",
    "orders_path = input_path + '\\\\Orders.csv'\n",
    "relations_path = input_path + '\\\\Relations.csv'\n",
    "users_path = input_path + '\\\\Users.csv'\n",
    "visits_path = input_path + '\\\\Visits.csv'\n",
    "\n",
    "file_paths = [\n",
    "    costs_path, \n",
    "    orders_path,\n",
    "    relations_path,\n",
    "    users_path, \n",
    "    visits_path,\n",
    "]\n",
    "\n",
    "\n",
    "recursive_action(iter(file_paths), check_file_path)\n",
    "\n",
    "print('All files were successfully found!')"
   ]
  },
  {
   "cell_type": "code",
   "execution_count": 4,
   "metadata": {},
   "outputs": [
    {
     "name": "stderr",
     "output_type": "stream",
     "text": [
      "C:\\Users\\mchau\\Anaconda3\\lib\\site-packages\\IPython\\core\\interactiveshell.py:2698: DtypeWarning: Columns (3) have mixed types. Specify dtype option on import or set low_memory=False.\n",
      "  interactivity=interactivity, compiler=compiler, result=result)\n"
     ]
    },
    {
     "name": "stdout",
     "output_type": "stream",
     "text": [
      "Files: \n",
      " Costs.csv \n",
      " Orders.csv \n",
      " Relations.csv \n",
      " Users.csv \n",
      " Visits.csv (partially)\n",
      "were loaded\n"
     ]
    }
   ],
   "source": [
    "Costs = pd.read_csv(costs_path)\n",
    "Costs.__name = 'Costs'\n",
    "Orders =  pd.read_csv(orders_path)\n",
    "Orders.__name = 'Orders'\n",
    "Relations =  pd.read_csv(relations_path)\n",
    "Relations.__name = 'Relations'\n",
    "Users =  pd.read_csv(users_path)\n",
    "Users.__name = 'Users'\n",
    "Visits = pd.read_csv(visits_path, nrows = 1000)\n",
    "Visits.__name = 'Visits'\n",
    "print('Files: \\n Costs.csv \\n Orders.csv \\n Relations.csv \\n Users.csv \\n Visits.csv (partially)\\nwere loaded')"
   ]
  },
  {
   "cell_type": "code",
   "execution_count": 7,
   "metadata": {
    "collapsed": true
   },
   "outputs": [],
   "source": [
    "Costs['date_created'] = pd.to_datetime(Costs['date_created'])\n",
    "Users['Reg_date'] = pd.to_datetime(Users['Reg_date'])\n",
    "Orders['Order Date'] = pd.to_datetime(Orders['Order Date'])\n",
    "\n",
    "Orders['Order Date'] = Orders['Order Date'].dt.floor('d')\n",
    "Costs['date_created'] = Costs['date_created'].dt.floor('d')\n",
    "Users['Reg_date'] = Users['Reg_date'].dt.floor('d')"
   ]
  },
  {
   "cell_type": "markdown",
   "metadata": {},
   "source": [
    "## Task 2\n",
    "### Revenue"
   ]
  },
  {
   "cell_type": "code",
   "execution_count": 9,
   "metadata": {},
   "outputs": [],
   "source": [
    "cols = ['id_user','Order Date']\n",
    "order_max = Orders[cols].groupby('id_user', as_index = False).max()"
   ]
  },
  {
   "cell_type": "code",
   "execution_count": 16,
   "metadata": {},
   "outputs": [
    {
     "data": {
      "text/html": [
       "<div>\n",
       "<style>\n",
       "    .dataframe thead tr:only-child th {\n",
       "        text-align: right;\n",
       "    }\n",
       "\n",
       "    .dataframe thead th {\n",
       "        text-align: left;\n",
       "    }\n",
       "\n",
       "    .dataframe tbody tr th {\n",
       "        vertical-align: top;\n",
       "    }\n",
       "</style>\n",
       "<table border=\"1\" class=\"dataframe\">\n",
       "  <thead>\n",
       "    <tr style=\"text-align: right;\">\n",
       "      <th></th>\n",
       "      <th>id</th>\n",
       "      <th>Reg_date</th>\n",
       "      <th>id_partner</th>\n",
       "      <th>name</th>\n",
       "      <th>id_user</th>\n",
       "      <th>Order Date</th>\n",
       "      <th>period</th>\n",
       "    </tr>\n",
       "  </thead>\n",
       "  <tbody>\n",
       "    <tr>\n",
       "      <th>0</th>\n",
       "      <td>7254798</td>\n",
       "      <td>2017-11-14</td>\n",
       "      <td>tf_usa_desk</td>\n",
       "      <td>%7Bcampaign.id%7D</td>\n",
       "      <td>7254798</td>\n",
       "      <td>2017-11-14</td>\n",
       "      <td>0 days</td>\n",
       "    </tr>\n",
       "    <tr>\n",
       "      <th>1</th>\n",
       "      <td>7217878</td>\n",
       "      <td>2017-11-12</td>\n",
       "      <td>tf_usa_mob</td>\n",
       "      <td>%7Bcampaign.id%7D</td>\n",
       "      <td>7217878</td>\n",
       "      <td>2017-12-26</td>\n",
       "      <td>44 days</td>\n",
       "    </tr>\n",
       "    <tr>\n",
       "      <th>2</th>\n",
       "      <td>5043120</td>\n",
       "      <td>2017-06-25</td>\n",
       "      <td>ADC_mobile</td>\n",
       "      <td>05b6fd5aee3e7e9249eb9eb994d6e949</td>\n",
       "      <td>5043120</td>\n",
       "      <td>2017-08-27</td>\n",
       "      <td>63 days</td>\n",
       "    </tr>\n",
       "    <tr>\n",
       "      <th>3</th>\n",
       "      <td>4830509</td>\n",
       "      <td>2017-06-15</td>\n",
       "      <td>W4_mobile</td>\n",
       "      <td>100019</td>\n",
       "      <td>4830509</td>\n",
       "      <td>2017-08-06</td>\n",
       "      <td>52 days</td>\n",
       "    </tr>\n",
       "    <tr>\n",
       "      <th>4</th>\n",
       "      <td>7149422</td>\n",
       "      <td>2017-11-06</td>\n",
       "      <td>W4_non_adult_valid</td>\n",
       "      <td>100084</td>\n",
       "      <td>7149422</td>\n",
       "      <td>2017-11-06</td>\n",
       "      <td>0 days</td>\n",
       "    </tr>\n",
       "  </tbody>\n",
       "</table>\n",
       "</div>"
      ],
      "text/plain": [
       "        id   Reg_date          id_partner                              name  \\\n",
       "0  7254798 2017-11-14         tf_usa_desk                 %7Bcampaign.id%7D   \n",
       "1  7217878 2017-11-12          tf_usa_mob                 %7Bcampaign.id%7D   \n",
       "2  5043120 2017-06-25          ADC_mobile  05b6fd5aee3e7e9249eb9eb994d6e949   \n",
       "3  4830509 2017-06-15           W4_mobile                            100019   \n",
       "4  7149422 2017-11-06  W4_non_adult_valid                            100084   \n",
       "\n",
       "   id_user Order Date  period  \n",
       "0  7254798 2017-11-14  0 days  \n",
       "1  7217878 2017-12-26 44 days  \n",
       "2  5043120 2017-08-27 63 days  \n",
       "3  4830509 2017-08-06 52 days  \n",
       "4  7149422 2017-11-06  0 days  "
      ]
     },
     "execution_count": 16,
     "metadata": {},
     "output_type": "execute_result"
    }
   ],
   "source": [
    "order_period = pd.merge(Users, order_max, how='right', left_on = 'id', right_on = 'id_user')\n",
    "order_period = order_period.assign(period=lambda x: x['Order Date'] - x.Reg_date)\n",
    "order_period.head()"
   ]
  },
  {
   "cell_type": "code",
   "execution_count": 17,
   "metadata": {},
   "outputs": [
    {
     "data": {
      "text/html": [
       "<div>\n",
       "<style>\n",
       "    .dataframe thead tr:only-child th {\n",
       "        text-align: right;\n",
       "    }\n",
       "\n",
       "    .dataframe thead th {\n",
       "        text-align: left;\n",
       "    }\n",
       "\n",
       "    .dataframe tbody tr th {\n",
       "        vertical-align: top;\n",
       "    }\n",
       "</style>\n",
       "<table border=\"1\" class=\"dataframe\">\n",
       "  <thead>\n",
       "    <tr style=\"text-align: right;\">\n",
       "      <th></th>\n",
       "      <th>period</th>\n",
       "      <th>chanel</th>\n",
       "    </tr>\n",
       "  </thead>\n",
       "  <tbody>\n",
       "    <tr>\n",
       "      <th>0</th>\n",
       "      <td>0 days</td>\n",
       "      <td>TF VB</td>\n",
       "    </tr>\n",
       "    <tr>\n",
       "      <th>1</th>\n",
       "      <td>44 days</td>\n",
       "      <td>TF VB Mob</td>\n",
       "    </tr>\n",
       "    <tr>\n",
       "      <th>2</th>\n",
       "      <td>63 days</td>\n",
       "      <td>ADC</td>\n",
       "    </tr>\n",
       "    <tr>\n",
       "      <th>3</th>\n",
       "      <td>52 days</td>\n",
       "      <td>W4_mobile</td>\n",
       "    </tr>\n",
       "    <tr>\n",
       "      <th>4</th>\n",
       "      <td>0 days</td>\n",
       "      <td>W4</td>\n",
       "    </tr>\n",
       "  </tbody>\n",
       "</table>\n",
       "</div>"
      ],
      "text/plain": [
       "   period     chanel\n",
       "0  0 days      TF VB\n",
       "1 44 days  TF VB Mob\n",
       "2 63 days        ADC\n",
       "3 52 days  W4_mobile\n",
       "4  0 days         W4"
      ]
     },
     "execution_count": 17,
     "metadata": {},
     "output_type": "execute_result"
    }
   ],
   "source": [
    "order_period = pd.merge(order_period, Relations, how='outer', on=['name', 'id_partner'])\n",
    "order_period = order_period[['period', 'chanel']]\n",
    "order_period.head()"
   ]
  },
  {
   "cell_type": "code",
   "execution_count": 19,
   "metadata": {},
   "outputs": [
    {
     "data": {
      "text/html": [
       "<div>\n",
       "<style>\n",
       "    .dataframe thead tr:only-child th {\n",
       "        text-align: right;\n",
       "    }\n",
       "\n",
       "    .dataframe thead th {\n",
       "        text-align: left;\n",
       "    }\n",
       "\n",
       "    .dataframe tbody tr th {\n",
       "        vertical-align: top;\n",
       "    }\n",
       "</style>\n",
       "<table border=\"1\" class=\"dataframe\">\n",
       "  <thead>\n",
       "    <tr style=\"text-align: right;\">\n",
       "      <th></th>\n",
       "      <th>period</th>\n",
       "      <th>chanel</th>\n",
       "    </tr>\n",
       "  </thead>\n",
       "  <tbody>\n",
       "    <tr>\n",
       "      <th>0</th>\n",
       "      <td>0</td>\n",
       "      <td>TF VB</td>\n",
       "    </tr>\n",
       "    <tr>\n",
       "      <th>1</th>\n",
       "      <td>44</td>\n",
       "      <td>TF VB Mob</td>\n",
       "    </tr>\n",
       "    <tr>\n",
       "      <th>2</th>\n",
       "      <td>63</td>\n",
       "      <td>ADC</td>\n",
       "    </tr>\n",
       "    <tr>\n",
       "      <th>3</th>\n",
       "      <td>52</td>\n",
       "      <td>W4_mobile</td>\n",
       "    </tr>\n",
       "    <tr>\n",
       "      <th>4</th>\n",
       "      <td>0</td>\n",
       "      <td>W4</td>\n",
       "    </tr>\n",
       "  </tbody>\n",
       "</table>\n",
       "</div>"
      ],
      "text/plain": [
       "   period     chanel\n",
       "0       0      TF VB\n",
       "1      44  TF VB Mob\n",
       "2      63        ADC\n",
       "3      52  W4_mobile\n",
       "4       0         W4"
      ]
     },
     "execution_count": 19,
     "metadata": {},
     "output_type": "execute_result"
    }
   ],
   "source": [
    "order_period.period =(order_period.period.fillna(0)/ np.timedelta64(1, 'D')).astype(int)\n",
    "order_period.head()"
   ]
  },
  {
   "cell_type": "code",
   "execution_count": 24,
   "metadata": {},
   "outputs": [
    {
     "data": {
      "text/html": [
       "<div>\n",
       "<style>\n",
       "    .dataframe thead tr:only-child th {\n",
       "        text-align: right;\n",
       "    }\n",
       "\n",
       "    .dataframe thead th {\n",
       "        text-align: left;\n",
       "    }\n",
       "\n",
       "    .dataframe tbody tr th {\n",
       "        vertical-align: top;\n",
       "    }\n",
       "</style>\n",
       "<table border=\"1\" class=\"dataframe\">\n",
       "  <thead>\n",
       "    <tr style=\"text-align: right;\">\n",
       "      <th></th>\n",
       "      <th>period</th>\n",
       "      <th>chanel</th>\n",
       "    </tr>\n",
       "  </thead>\n",
       "  <tbody>\n",
       "    <tr>\n",
       "      <th>0</th>\n",
       "      <td>0</td>\n",
       "      <td>TF VB</td>\n",
       "    </tr>\n",
       "    <tr>\n",
       "      <th>1</th>\n",
       "      <td>44</td>\n",
       "      <td>TF VB Mob</td>\n",
       "    </tr>\n",
       "    <tr>\n",
       "      <th>2</th>\n",
       "      <td>63</td>\n",
       "      <td>ADC</td>\n",
       "    </tr>\n",
       "    <tr>\n",
       "      <th>3</th>\n",
       "      <td>52</td>\n",
       "      <td>W4_mobile</td>\n",
       "    </tr>\n",
       "    <tr>\n",
       "      <th>4</th>\n",
       "      <td>0</td>\n",
       "      <td>W4</td>\n",
       "    </tr>\n",
       "  </tbody>\n",
       "</table>\n",
       "</div>"
      ],
      "text/plain": [
       "   period     chanel\n",
       "0       0      TF VB\n",
       "1      44  TF VB Mob\n",
       "2      63        ADC\n",
       "3      52  W4_mobile\n",
       "4       0         W4"
      ]
     },
     "metadata": {},
     "output_type": "display_data"
    }
   ],
   "source": [
    "order_period.groupby('chanel', as_index = False).mean()\n",
    "display(order_period.head())\n",
    "\n",
    "revenue_lifetime_path =  output_path + '\\\\revenue_lifetime.csv'\n",
    "order_period.to_csv(revenue_lifetime_path)"
   ]
  },
  {
   "cell_type": "code",
   "execution_count": null,
   "metadata": {
    "collapsed": true
   },
   "outputs": [],
   "source": []
  }
 ],
 "metadata": {
  "kernelspec": {
   "display_name": "Python 3",
   "language": "python",
   "name": "python3"
  },
  "language_info": {
   "codemirror_mode": {
    "name": "ipython",
    "version": 3
   },
   "file_extension": ".py",
   "mimetype": "text/x-python",
   "name": "python",
   "nbconvert_exporter": "python",
   "pygments_lexer": "ipython3",
   "version": "3.6.3"
  }
 },
 "nbformat": 4,
 "nbformat_minor": 2
}
